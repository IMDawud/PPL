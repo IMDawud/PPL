{
 "cells": [
  {
   "cell_type": "markdown",
   "metadata": {},
   "source": [
    "Stack Machine Emulator"
   ]
  },
  {
   "cell_type": "code",
   "execution_count": null,
   "metadata": {},
   "outputs": [],
   "source": [
    "def emulateSingleInstruction(stack: List[Double], ins: StackMachineInstruction): List[Double]={\n",
    "    ins match{\n",
    "        case AddI => {\n",
    "            if (stack.length >= 2){\n",
    "                val x = stack(0)\n",
    "                val y = stack(1)\n",
    "                return x+y :: stack.tail.tail\n",
    "            }\n",
    "            else{\n",
    "                \n",
    "            }\n",
    "        }\n",
    "        case SubI => ???\n",
    "    }\n",
    "}"
   ]
  }
 ],
 "metadata": {
  "kernelspec": {
   "display_name": "Scala",
   "language": "scala",
   "name": "scala"
  },
  "language_info": {
   "codemirror_mode": "text/x-scala",
   "file_extension": ".scala",
   "mimetype": "text/x-scala",
   "name": "scala",
   "nbconvert_exporter": "script",
   "version": "2.12.8"
  }
 },
 "nbformat": 4,
 "nbformat_minor": 2
}
